{
 "cells": [
  {
   "cell_type": "code",
   "execution_count": 1,
   "metadata": {},
   "outputs": [],
   "source": [
    "import os\n",
    "\n",
    "os.chdir(os.path.dirname(os.path.abspath(os.getcwd())))"
   ]
  },
  {
   "cell_type": "code",
   "execution_count": null,
   "metadata": {},
   "outputs": [],
   "source": [
    "import numpy as np\n",
    "\n",
    "np.random.seed(42)\n",
    "\n",
    "X_train = np.load('data/train_data.npy')\n",
    "y_train = np.load('data/train_label.npy').squeeze()\n",
    "X_test = np.load('data/test_data.npy')\n",
    "y_test = np.load('data/test_label.npy').squeeze()\n",
    "print(X_train.shape, y_train.shape, X_test.shape, y_test.shape)"
   ]
  },
  {
   "cell_type": "code",
   "execution_count": null,
   "metadata": {},
   "outputs": [],
   "source": [
    "import numpy_keras as keras\n",
    "\n",
    "model = keras.Sequential()\n",
    "model.add(keras.layers.Input(shape=X_train.shape[1]))\n",
    "model.add(keras.layers.Dense(120, activation='elu', kernel_initializer='he_uniform'))\n",
    "model.add(keras.layers.Dropout(0.25))\n",
    "model.add(keras.layers.Dense(112, activation='elu', kernel_initializer='he_uniform'))\n",
    "model.add(keras.layers.Dropout(0.20))\n",
    "model.add(keras.layers.Dense(96, activation='elu', kernel_initializer='he_uniform'))\n",
    "model.add(keras.layers.Dropout(0.15))\n",
    "model.add(keras.layers.Dense(64, activation='elu', kernel_initializer='he_uniform'))\n",
    "model.add(keras.layers.Dropout(0.10))\n",
    "model.add(keras.layers.Dense(32, activation='elu', kernel_initializer='he_uniform'))\n",
    "model.add(keras.layers.Dense(24, activation='elu', kernel_initializer='he_uniform'))\n",
    "model.add(keras.layers.Dense(16, activation='elu', kernel_initializer='he_uniform'))\n",
    "model.add(keras.layers.Dense(10, activation='softmax'))\n",
    "model.summary()"
   ]
  },
  {
   "cell_type": "code",
   "execution_count": null,
   "metadata": {},
   "outputs": [],
   "source": [
    "early_stop = keras.callbacks.EarlyStopping('val_accuracy', mode='max', patience=5, restore_best_weights=True)\n",
    "lr_scheduler = keras.callbacks.ReduceLROnPlateau('val_accuracy', mode='max', factor=0.5, patience=3, min_lr=1e-6)\n",
    "model.compile(optimizer='adam', loss='sparse_categorical_crossentropy', metrics=['accuracy'])\n",
    "# history = model.fit(X_train, y_train, epochs=60, batch_size=128, verbose=1, callbacks=[early_stop, lr_scheduler], validation_split=0.1)\n",
    "history = model.fit(X_train, y_train, epochs=60, batch_size=128, verbose=1, callbacks=[early_stop, lr_scheduler], validation_data=(X_test, y_test))\n",
    "print(f\"Accuracy on the training set: {model.evaluate(X_train, y_train):2%}.\")\n",
    "print(f\"Accuracy on the test set: {model.evaluate(X_test, y_test):2%}.\")"
   ]
  },
  {
   "cell_type": "code",
   "execution_count": null,
   "metadata": {},
   "outputs": [],
   "source": [
    "keras.plot_history(history)"
   ]
  }
 ],
 "metadata": {
  "kernelspec": {
   "display_name": "5328",
   "language": "python",
   "name": "python3"
  },
  "language_info": {
   "codemirror_mode": {
    "name": "ipython",
    "version": 3
   },
   "file_extension": ".py",
   "mimetype": "text/x-python",
   "name": "python",
   "nbconvert_exporter": "python",
   "pygments_lexer": "ipython3",
   "version": "3.12.1"
  }
 },
 "nbformat": 4,
 "nbformat_minor": 2
}
