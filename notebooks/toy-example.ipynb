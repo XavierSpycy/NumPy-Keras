{
 "cells": [
  {
   "cell_type": "code",
   "execution_count": 1,
   "metadata": {
    "executionInfo": {
     "elapsed": 24,
     "status": "ok",
     "timestamp": 1677838481098,
     "user": {
      "displayName": "Dylan",
      "userId": "11860375853639011437"
     },
     "user_tz": -660
    },
    "id": "PiIktNG2TQU8"
   },
   "outputs": [],
   "source": [
    "import os\n",
    "\n",
    "import numpy as np\n",
    "import matplotlib.pyplot as plt\n",
    "\n",
    "# We need to change the working directory to the root of the project\n",
    "# We use a folder called \"notebooks\" to store the jupyter notebooks, which could be easier for us to manage\n",
    "# However, the core implementation is in the root folder, therefore we need to change the working directory in order to import the modules\n",
    "\n",
    "os.chdir(os.path.dirname(os.path.abspath(os.getcwd())))\n",
    "\n",
    "# Let's set the seed for the random number generator\n",
    "# Please feel free to change the seed to see how the results change\n",
    "\n",
    "np.random.seed(3407)"
   ]
  },
  {
   "cell_type": "code",
   "execution_count": 2,
   "metadata": {},
   "outputs": [],
   "source": [
    "# Here is our implementation of the neural network\n",
    "# We use `keras` as the alias for our implementation, which could help you understand how it's similar to the `keras` library\n",
    "import numpy_keras as keras"
   ]
  },
  {
   "cell_type": "code",
   "execution_count": 3,
   "metadata": {
    "colab": {
     "base_uri": "https://localhost:8080/"
    },
    "executionInfo": {
     "elapsed": 13,
     "status": "ok",
     "timestamp": 1677838481099,
     "user": {
      "displayName": "Dylan",
      "userId": "11860375853639011437"
     },
     "user_tz": -660
    },
    "id": "oSvKdlYXAFTZ",
    "outputId": "595ca595-b803-46aa-9077-2ccc091184d2"
   },
   "outputs": [],
   "source": [
    "# To avoid any bias, we will use a random dataset\n",
    "# However, we will also use a fixed seed to ensure reproducibility for both the dataset and the initialization of the model\n",
    "\n",
    "y_1 = np.hstack([np.random.normal( 1, 1, size=(100, 2)),  np.ones(shape=(100, 1))])\n",
    "y_2 = np.hstack([np.random.normal(-1, 1, size=(40, 2)), -np.ones(shape=(40, 1))])\n",
    "dataset = np.vstack([y_1, y_2])"
   ]
  },
  {
   "cell_type": "code",
   "execution_count": null,
   "metadata": {
    "colab": {
     "base_uri": "https://localhost:8080/",
     "height": 374
    },
    "executionInfo": {
     "elapsed": 1492,
     "status": "ok",
     "timestamp": 1677838482582,
     "user": {
      "displayName": "Dylan",
      "userId": "11860375853639011437"
     },
     "user_tz": -660
    },
    "id": "bJM03kDtBTxG",
    "outputId": "9cc77824-89bc-463c-8661-6ba0b31de3b6"
   },
   "outputs": [],
   "source": [
    "# Let's take a look at the dataset\n",
    "plt.figure(figsize=(6, 6))\n",
    "plt.scatter(y_1[:,0], y_1[:,1], label='+1')\n",
    "plt.scatter(y_2[:,0], y_2[:,1], label='-1')\n",
    "plt.grid()\n",
    "plt.legend()\n",
    "plt.show()"
   ]
  },
  {
   "cell_type": "code",
   "execution_count": 5,
   "metadata": {},
   "outputs": [],
   "source": [
    "# Let's define a simple function to plot the decision boundary of a model\n",
    "def plot_decision_boundary(model, X_train, y_train):\n",
    "    xx, yy = np.meshgrid(np.arange(-2, 2, .02), np.arange(-2, 2, .02))\n",
    "    Z = model.predict(np.c_[xx.ravel(), yy.ravel()])\n",
    "    Z = Z.reshape(xx.shape)\n",
    "    \n",
    "    plt.figure(figsize=(15,7))\n",
    "    plt.subplot(1, 2, 1)\n",
    "    plt.pcolormesh(xx, yy, Z>0, cmap='cool')\n",
    "    plt.scatter(X_train[:, 0], X_train[:, 1], c=[(['b', 'r'])[int(d>0)] for d in y_train], s=100)\n",
    "    plt.xlim(-2, 2)\n",
    "    plt.ylim(-2, 2)\n",
    "    plt.grid()\n",
    "    plt.title('Labels')\n",
    "    plt.subplot(1, 2, 2)\n",
    "    plt.pcolormesh(xx, yy, Z>0, cmap='cool')\n",
    "    plt.scatter(X_train[:, 0], X_train[:, 1], c=[(['b', 'r'])[int(d>0)] for d in model.predict(X_train)], s=100)\n",
    "    plt.xlim(-2, 2)\n",
    "    plt.ylim(-2, 2)\n",
    "    plt.grid()\n",
    "    plt.title('Predictions')"
   ]
  },
  {
   "cell_type": "code",
   "execution_count": null,
   "metadata": {},
   "outputs": [],
   "source": [
    "# Let's first attempt to train a simple model\n",
    "X_train, y_train = dataset[:, 0:2], dataset[:, 2]\n",
    "\n",
    "np.random.seed(3407)\n",
    "\n",
    "# 2 layers, exclusive of the input layer\n",
    "layers = [\n",
    "    keras.layers.Input(2),\n",
    "    keras.layers.Dense(3, activation=\"relu\", kernel_initializer='he_normal'),\n",
    "    keras.layers.Dense(1, activation='tanh')\n",
    "]\n",
    "\n",
    "model = keras.Sequential(layers)\n",
    "# We use the mean squared error as the loss function, and the stochastic gradient descent as the optimizer, with the R^2 score as the metric\n",
    "model.compile(loss='mse', optimizer=keras.optimizers.SGD(1e-3), metrics=['r2_score'])\n",
    "# Let's witness the magic of the neural network\n",
    "history = model.fit(X_train, y_train, batch_size=2, epochs=500, verbose=1)\n",
    "keras.plot_history(history)"
   ]
  },
  {
   "cell_type": "code",
   "execution_count": null,
   "metadata": {},
   "outputs": [],
   "source": [
    "# The model seems very good at fitting the training data\n",
    "plot_decision_boundary(model, X_train, y_train)"
   ]
  },
  {
   "cell_type": "code",
   "execution_count": null,
   "metadata": {},
   "outputs": [],
   "source": [
    "# The model above looks pretty good\n",
    "# Let's try to train a model with a different optimizer\n",
    "X_train, y_train = dataset[:, 0:2], dataset[:, 2]\n",
    "\n",
    "np.random.seed(3407)\n",
    "\n",
    "layers = [\n",
    "    keras.layers.Input(2),\n",
    "    keras.layers.Dense(3, activation=\"relu\", kernel_initializer='he_normal'),\n",
    "    keras.layers.Dense(1, activation='tanh')\n",
    "]\n",
    "\n",
    "model = keras.Sequential(layers)\n",
    "model.compile(loss='mse', optimizer='adam', metrics=['r2_score'])\n",
    "history = model.fit(X_train, y_train, batch_size=2, epochs=500, verbose=1)\n",
    "keras.plot_history(history)"
   ]
  },
  {
   "cell_type": "code",
   "execution_count": null,
   "metadata": {},
   "outputs": [],
   "source": [
    "# We can notice that there is a `corner` in the decision boundary, which is quite different from the previous model\n",
    "# although the loss tends to be quite similar\n",
    "plot_decision_boundary(model, X_train, y_train)"
   ]
  },
  {
   "cell_type": "code",
   "execution_count": null,
   "metadata": {
    "executionInfo": {
     "elapsed": 3,
     "status": "ok",
     "timestamp": 1677838482583,
     "user": {
      "displayName": "Dylan",
      "userId": "11860375853639011437"
     },
     "user_tz": -660
    },
    "id": "iu7RlvZYTQVV"
   },
   "outputs": [],
   "source": [
    "# Let's try to add different layers to the model, and see how the decision boundary changes\n",
    "# What about adding a dropout layer?\n",
    "X_train, y_train = dataset[:, 0:2], dataset[:, 2]\n",
    "\n",
    "np.random.seed(3407)\n",
    "\n",
    "layers = [\n",
    "    keras.layers.Input(2),\n",
    "    keras.layers.Dense(3, activation=\"relu\", kernel_initializer='he_normal'),\n",
    "    keras.layers.Dropout(0.2),\n",
    "    keras.layers.Dense(1, activation='tanh')\n",
    "]\n",
    "\n",
    "model = keras.Sequential(layers)\n",
    "model.compile(loss='mse', optimizer='adam', metrics=['r2_score'])\n",
    "history = model.fit(X_train, y_train, batch_size=2, epochs=500, verbose=1)\n",
    "keras.plot_history(history)"
   ]
  },
  {
   "cell_type": "code",
   "execution_count": null,
   "metadata": {},
   "outputs": [],
   "source": [
    "# This time, \n",
    "# the loss seems more oscillatory,\n",
    "# while the decision boundary looks smoother, and the model seems to be more robust\n",
    "plot_decision_boundary(model, X_train, y_train)"
   ]
  },
  {
   "cell_type": "code",
   "execution_count": null,
   "metadata": {},
   "outputs": [],
   "source": [
    "# Let's try to add a batch normalization layer\n",
    "X_train, y_train = dataset[:,0:2], dataset[:,2]\n",
    "\n",
    "np.random.seed(3407)\n",
    "\n",
    "layers = [\n",
    "    keras.layers.Input(2),\n",
    "    keras.layers.Dense(3, activation=None),\n",
    "    keras.layers.BatchNormalization(),\n",
    "    keras.layers.Activation('relu'),\n",
    "    keras.layers.Dropout(0.2),\n",
    "    keras.layers.Dense(1, activation='tanh')\n",
    "]\n",
    "\n",
    "model = keras.Sequential(layers)\n",
    "model.compile(loss='mse', optimizer='adam', metrics=['r2_score'])\n",
    "history = model.fit(X_train, y_train, batch_size=2, epochs=500, verbose=1)\n",
    "keras.plot_history(history)"
   ]
  },
  {
   "cell_type": "code",
   "execution_count": null,
   "metadata": {},
   "outputs": [],
   "source": [
    "# Oops, the loss seems to be extremely oscillatory\n",
    "# Also, the model doesn't seem to be able to fit the training data\n",
    "# A possible reason is that the batch normalization layer is sensitive to the batch size\n",
    "# In this case, the batch size is too small, which could cause the model to be unstable\n",
    "plot_decision_boundary(model, X_train, y_train)"
   ]
  },
  {
   "cell_type": "code",
   "execution_count": null,
   "metadata": {},
   "outputs": [],
   "source": [
    "# Let's try to increase the batch size, and see how the model behaves\n",
    "X_train, y_train = dataset[:,0:2], dataset[:,2]\n",
    "\n",
    "np.random.seed(3407)\n",
    "\n",
    "layers = [\n",
    "    keras.layers.Input(2),\n",
    "    keras.layers.Dense(3, activation=None),\n",
    "    keras.layers.BatchNormalization(),\n",
    "    keras.layers.Activation('relu'),\n",
    "    keras.layers.Dropout(0.2),\n",
    "    keras.layers.Dense(1, activation='tanh')\n",
    "]\n",
    "\n",
    "model = keras.Sequential(layers)\n",
    "model.compile(loss='mse', optimizer='adam', metrics=['r2_score'])\n",
    "history = model.fit(X_train, y_train, batch_size=16, epochs=500, verbose=1)\n",
    "keras.plot_history(history)"
   ]
  },
  {
   "cell_type": "code",
   "execution_count": null,
   "metadata": {},
   "outputs": [],
   "source": [
    "# It looks better now\n",
    "# However, since the dataset is quite small, the loss is still quite oscillatory, however, the model seems to be able to fit the training data\n",
    "plot_decision_boundary(model, X_train, y_train)"
   ]
  },
  {
   "cell_type": "code",
   "execution_count": null,
   "metadata": {},
   "outputs": [],
   "source": [
    "# At the end, let's redefine the task as a classification task instead of a regression task\n",
    "# Also, let's try `add` method to add layers to the model instead of using a list\n",
    "X_train, y_train = dataset[:,0:2], dataset[:,2]\n",
    "np.random.seed(3407)\n",
    "model = keras.Sequential()\n",
    "model.add(keras.layers.Input(2))\n",
    "model.add(keras.layers.Dense(3, activation='relu', kernel_initializer='he_normal'))\n",
    "model.add(keras.layers.Dropout(0.2))\n",
    "model.add(keras.layers.Dense(2, activation='softmax'))\n",
    "model.compile(loss='sparse_categorical_crossentropy', optimizer='adam', metrics=['accuracy'])\n",
    "history = model.fit(X_train, y_train, batch_size=2, epochs=500, verbose=1)\n",
    "keras.plot_history(history)"
   ]
  },
  {
   "cell_type": "code",
   "execution_count": null,
   "metadata": {
    "colab": {
     "base_uri": "https://localhost:8080/"
    },
    "executionInfo": {
     "elapsed": 1925,
     "status": "ok",
     "timestamp": 1677838484505,
     "user": {
      "displayName": "Dylan",
      "userId": "11860375853639011437"
     },
     "user_tz": -660
    },
    "id": "XEo7LPtITQVX",
    "outputId": "e0c399c3-8b8e-4374-ec3f-9031de3d59de"
   },
   "outputs": [],
   "source": [
    "plot_decision_boundary(model, X_train, y_train)"
   ]
  }
 ],
 "metadata": {
  "accelerator": "GPU",
  "colab": {
   "provenance": [
    {
     "file_id": "10hCb5ZjHWmS7NzE6jjr5SM48bcTZgUnv",
     "timestamp": 1615367342684
    }
   ]
  },
  "kernelspec": {
   "display_name": "5328",
   "language": "python",
   "name": "python3"
  },
  "language_info": {
   "codemirror_mode": {
    "name": "ipython",
    "version": 3
   },
   "file_extension": ".py",
   "mimetype": "text/x-python",
   "name": "python",
   "nbconvert_exporter": "python",
   "pygments_lexer": "ipython3",
   "version": "3.12.1"
  }
 },
 "nbformat": 4,
 "nbformat_minor": 0
}
