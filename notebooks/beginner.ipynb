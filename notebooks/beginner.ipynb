{
 "cells": [
  {
   "cell_type": "code",
   "execution_count": 1,
   "metadata": {},
   "outputs": [],
   "source": [
    "import os\n",
    "\n",
    "import numpy as np\n",
    "\n",
    "os.chdir(os.path.dirname(os.path.abspath(os.getcwd())))\n",
    "\n",
    "def mnist_load_data(run_on_colab=False):\n",
    "    base_folder = '/content/sample_data/' if run_on_colab else './data/'\n",
    "    with open(os.path.join(base_folder, 'mnist_train_small.csv'), 'r') as f:\n",
    "        mnist_train = np.array([line.strip().split(',') for line in f.readlines()])\n",
    "    \n",
    "    with open(os.path.join(base_folder, 'mnist_train_small.csv'), 'r') as f:\n",
    "        mnist_test = np.array([line.strip().split(',') for line in f.readlines()])\n",
    "    \n",
    "    X_train, y_train = mnist_train[:, 1:].astype(np.float64), mnist_train[:, 0].astype(np.int32)\n",
    "    X_test, y_test = mnist_test[:, 1:].astype(np.float64), mnist_test[:, 0].astype(np.int32)\n",
    "    return X_train, y_train, X_test, y_test"
   ]
  },
  {
   "cell_type": "code",
   "execution_count": null,
   "metadata": {},
   "outputs": [],
   "source": [
    "import numpy_keras as keras\n",
    "\n",
    "np.random.seed(675)\n",
    "X_train, y_train, X_test, y_test = mnist_load_data()\n",
    "X_train, X_test = X_train / 255.0, X_test / 255.0\n",
    "\n",
    "model = keras.models.Sequential([\n",
    "    keras.layers.Flatten(input_shape=(28, 28)),\n",
    "    keras.layers.Dense(128, activation='relu', kernel_initializer='he_normal'),\n",
    "    keras.layers.Dropout(0.2),\n",
    "    keras.layers.Dense(10, activation='softmax')\n",
    "])\n",
    "\n",
    "model.summary()"
   ]
  },
  {
   "cell_type": "code",
   "execution_count": null,
   "metadata": {},
   "outputs": [],
   "source": [
    "model.compile(optimizer='adam',\n",
    "  loss='sparse_categorical_crossentropy',\n",
    "  metrics=['accuracy'])\n",
    "\n",
    "history = model.fit(X_train, y_train, epochs=5, verbose=1)\n",
    "print(f\"Accuracy on the training set: {model.evaluate(X_train, y_train):.2%}\")\n",
    "print(f\"Accuracy on the test set: {model.evaluate(X_test, y_test):.2%}\")"
   ]
  },
  {
   "cell_type": "code",
   "execution_count": null,
   "metadata": {},
   "outputs": [],
   "source": [
    "keras.plot_history(history)"
   ]
  },
  {
   "cell_type": "code",
   "execution_count": null,
   "metadata": {},
   "outputs": [],
   "source": [
    "print(model.parameters[\"dense_1\"][\"W\"].shape)"
   ]
  }
 ],
 "metadata": {
  "kernelspec": {
   "display_name": "numpy_keras",
   "language": "python",
   "name": "python3"
  },
  "language_info": {
   "codemirror_mode": {
    "name": "ipython",
    "version": 3
   },
   "file_extension": ".py",
   "mimetype": "text/x-python",
   "name": "python",
   "nbconvert_exporter": "python",
   "pygments_lexer": "ipython3",
   "version": "3.12.8"
  }
 },
 "nbformat": 4,
 "nbformat_minor": 2
}
